{
 "cells": [
  {
   "cell_type": "code",
   "execution_count": 39,
   "id": "f2861a6c",
   "metadata": {},
   "outputs": [],
   "source": [
    "import numpy as np\n",
    "import pandas as pd\n",
    "\n",
    "from sklearn.ensemble import RandomForestRegressor\n",
    "from sklearn.kernel_ridge import KernelRidge\n",
    "\n",
    "from sklearn.model_selection import train_test_split\n",
    "from sklearn.feature_selection import SelectKBest, f_regression\n",
    "from sklearn.metrics import mean_squared_error\n",
    "\n",
    "from sklearn import preprocessing \n",
    "\n",
    "from sklearn.model_selection import GridSearchCV"
   ]
  },
  {
   "cell_type": "code",
   "execution_count": 3,
   "id": "e3eb31f3",
   "metadata": {},
   "outputs": [],
   "source": [
    "test = pd.read_csv('test.zip')\n",
    "train = pd.read_csv('train.zip')"
   ]
  },
  {
   "cell_type": "code",
   "execution_count": 4,
   "id": "02cb2b8a",
   "metadata": {},
   "outputs": [
    {
     "data": {
      "text/html": [
       "<div>\n",
       "<style scoped>\n",
       "    .dataframe tbody tr th:only-of-type {\n",
       "        vertical-align: middle;\n",
       "    }\n",
       "\n",
       "    .dataframe tbody tr th {\n",
       "        vertical-align: top;\n",
       "    }\n",
       "\n",
       "    .dataframe thead th {\n",
       "        text-align: right;\n",
       "    }\n",
       "</style>\n",
       "<table border=\"1\" class=\"dataframe\">\n",
       "  <thead>\n",
       "    <tr style=\"text-align: right;\">\n",
       "      <th></th>\n",
       "      <th>PIDN</th>\n",
       "      <th>m7497.96</th>\n",
       "      <th>m7496.04</th>\n",
       "      <th>m7494.11</th>\n",
       "      <th>m7492.18</th>\n",
       "      <th>m7490.25</th>\n",
       "      <th>m7488.32</th>\n",
       "      <th>m7486.39</th>\n",
       "      <th>m7484.46</th>\n",
       "      <th>m7482.54</th>\n",
       "      <th>...</th>\n",
       "      <th>REF7</th>\n",
       "      <th>RELI</th>\n",
       "      <th>TMAP</th>\n",
       "      <th>TMFI</th>\n",
       "      <th>Depth</th>\n",
       "      <th>Ca</th>\n",
       "      <th>P</th>\n",
       "      <th>pH</th>\n",
       "      <th>SOC</th>\n",
       "      <th>Sand</th>\n",
       "    </tr>\n",
       "  </thead>\n",
       "  <tbody>\n",
       "    <tr>\n",
       "      <th>0</th>\n",
       "      <td>XNhoFZW5</td>\n",
       "      <td>0.302553</td>\n",
       "      <td>0.301137</td>\n",
       "      <td>0.299748</td>\n",
       "      <td>0.300354</td>\n",
       "      <td>0.302679</td>\n",
       "      <td>0.303799</td>\n",
       "      <td>0.301702</td>\n",
       "      <td>0.298936</td>\n",
       "      <td>0.298126</td>\n",
       "      <td>...</td>\n",
       "      <td>-0.646673</td>\n",
       "      <td>1.687734</td>\n",
       "      <td>0.190708</td>\n",
       "      <td>0.056843</td>\n",
       "      <td>Topsoil</td>\n",
       "      <td>-0.295749</td>\n",
       "      <td>-0.041336</td>\n",
       "      <td>-1.129366</td>\n",
       "      <td>0.353258</td>\n",
       "      <td>1.269748</td>\n",
       "    </tr>\n",
       "    <tr>\n",
       "      <th>1</th>\n",
       "      <td>9XNspFTd</td>\n",
       "      <td>0.270192</td>\n",
       "      <td>0.268555</td>\n",
       "      <td>0.266964</td>\n",
       "      <td>0.267938</td>\n",
       "      <td>0.271013</td>\n",
       "      <td>0.272346</td>\n",
       "      <td>0.269870</td>\n",
       "      <td>0.266976</td>\n",
       "      <td>0.266544</td>\n",
       "      <td>...</td>\n",
       "      <td>-0.646673</td>\n",
       "      <td>1.687734</td>\n",
       "      <td>0.190708</td>\n",
       "      <td>0.056843</td>\n",
       "      <td>Subsoil</td>\n",
       "      <td>-0.387442</td>\n",
       "      <td>-0.231552</td>\n",
       "      <td>-1.531538</td>\n",
       "      <td>-0.264023</td>\n",
       "      <td>1.692209</td>\n",
       "    </tr>\n",
       "    <tr>\n",
       "      <th>2</th>\n",
       "      <td>WDId41qG</td>\n",
       "      <td>0.317433</td>\n",
       "      <td>0.316265</td>\n",
       "      <td>0.314948</td>\n",
       "      <td>0.315224</td>\n",
       "      <td>0.316942</td>\n",
       "      <td>0.317764</td>\n",
       "      <td>0.316067</td>\n",
       "      <td>0.313874</td>\n",
       "      <td>0.313301</td>\n",
       "      <td>...</td>\n",
       "      <td>-0.814516</td>\n",
       "      <td>1.806660</td>\n",
       "      <td>0.190708</td>\n",
       "      <td>0.056843</td>\n",
       "      <td>Topsoil</td>\n",
       "      <td>-0.248601</td>\n",
       "      <td>-0.224635</td>\n",
       "      <td>-0.259551</td>\n",
       "      <td>0.064152</td>\n",
       "      <td>2.091835</td>\n",
       "    </tr>\n",
       "    <tr>\n",
       "      <th>3</th>\n",
       "      <td>JrrJf1mN</td>\n",
       "      <td>0.261116</td>\n",
       "      <td>0.259767</td>\n",
       "      <td>0.258384</td>\n",
       "      <td>0.259001</td>\n",
       "      <td>0.261310</td>\n",
       "      <td>0.262417</td>\n",
       "      <td>0.260534</td>\n",
       "      <td>0.258039</td>\n",
       "      <td>0.257246</td>\n",
       "      <td>...</td>\n",
       "      <td>-0.814516</td>\n",
       "      <td>1.806660</td>\n",
       "      <td>0.190708</td>\n",
       "      <td>0.056843</td>\n",
       "      <td>Subsoil</td>\n",
       "      <td>-0.332195</td>\n",
       "      <td>-0.318014</td>\n",
       "      <td>-0.577548</td>\n",
       "      <td>-0.318719</td>\n",
       "      <td>2.118477</td>\n",
       "    </tr>\n",
       "    <tr>\n",
       "      <th>4</th>\n",
       "      <td>ZoIitegA</td>\n",
       "      <td>0.260038</td>\n",
       "      <td>0.258425</td>\n",
       "      <td>0.256544</td>\n",
       "      <td>0.257030</td>\n",
       "      <td>0.259602</td>\n",
       "      <td>0.260786</td>\n",
       "      <td>0.258717</td>\n",
       "      <td>0.256352</td>\n",
       "      <td>0.255902</td>\n",
       "      <td>...</td>\n",
       "      <td>-0.780242</td>\n",
       "      <td>0.430513</td>\n",
       "      <td>0.190708</td>\n",
       "      <td>0.056843</td>\n",
       "      <td>Topsoil</td>\n",
       "      <td>-0.438350</td>\n",
       "      <td>-0.010210</td>\n",
       "      <td>-0.699135</td>\n",
       "      <td>-0.310905</td>\n",
       "      <td>2.164148</td>\n",
       "    </tr>\n",
       "  </tbody>\n",
       "</table>\n",
       "<p>5 rows × 3600 columns</p>\n",
       "</div>"
      ],
      "text/plain": [
       "       PIDN  m7497.96  m7496.04  m7494.11  m7492.18  m7490.25  m7488.32  \\\n",
       "0  XNhoFZW5  0.302553  0.301137  0.299748  0.300354  0.302679  0.303799   \n",
       "1  9XNspFTd  0.270192  0.268555  0.266964  0.267938  0.271013  0.272346   \n",
       "2  WDId41qG  0.317433  0.316265  0.314948  0.315224  0.316942  0.317764   \n",
       "3  JrrJf1mN  0.261116  0.259767  0.258384  0.259001  0.261310  0.262417   \n",
       "4  ZoIitegA  0.260038  0.258425  0.256544  0.257030  0.259602  0.260786   \n",
       "\n",
       "   m7486.39  m7484.46  m7482.54  ...      REF7      RELI      TMAP      TMFI  \\\n",
       "0  0.301702  0.298936  0.298126  ... -0.646673  1.687734  0.190708  0.056843   \n",
       "1  0.269870  0.266976  0.266544  ... -0.646673  1.687734  0.190708  0.056843   \n",
       "2  0.316067  0.313874  0.313301  ... -0.814516  1.806660  0.190708  0.056843   \n",
       "3  0.260534  0.258039  0.257246  ... -0.814516  1.806660  0.190708  0.056843   \n",
       "4  0.258717  0.256352  0.255902  ... -0.780242  0.430513  0.190708  0.056843   \n",
       "\n",
       "     Depth        Ca         P        pH       SOC      Sand  \n",
       "0  Topsoil -0.295749 -0.041336 -1.129366  0.353258  1.269748  \n",
       "1  Subsoil -0.387442 -0.231552 -1.531538 -0.264023  1.692209  \n",
       "2  Topsoil -0.248601 -0.224635 -0.259551  0.064152  2.091835  \n",
       "3  Subsoil -0.332195 -0.318014 -0.577548 -0.318719  2.118477  \n",
       "4  Topsoil -0.438350 -0.010210 -0.699135 -0.310905  2.164148  \n",
       "\n",
       "[5 rows x 3600 columns]"
      ]
     },
     "execution_count": 4,
     "metadata": {},
     "output_type": "execute_result"
    }
   ],
   "source": [
    "train.head()"
   ]
  },
  {
   "cell_type": "code",
   "execution_count": 5,
   "id": "c7161760",
   "metadata": {},
   "outputs": [
    {
     "data": {
      "text/plain": [
       "(1157, 3600)"
      ]
     },
     "execution_count": 5,
     "metadata": {},
     "output_type": "execute_result"
    }
   ],
   "source": [
    "train.shape"
   ]
  },
  {
   "cell_type": "code",
   "execution_count": 6,
   "id": "6700ffb2",
   "metadata": {},
   "outputs": [
    {
     "data": {
      "text/plain": [
       "0"
      ]
     },
     "execution_count": 6,
     "metadata": {},
     "output_type": "execute_result"
    }
   ],
   "source": [
    "train.isna().sum().max()"
   ]
  },
  {
   "cell_type": "code",
   "execution_count": 7,
   "id": "da00733f",
   "metadata": {},
   "outputs": [],
   "source": [
    "train.drop(columns = \"PIDN\", axis = 1, inplace = True)"
   ]
  },
  {
   "cell_type": "code",
   "execution_count": 8,
   "id": "d9a105cd",
   "metadata": {},
   "outputs": [
    {
     "data": {
      "text/plain": [
       "Index(['m7497.96', 'm7496.04', 'm7494.11', 'm7492.18', 'm7490.25', 'm7488.32',\n",
       "       'm7486.39', 'm7484.46', 'm7482.54', 'm7480.61',\n",
       "       ...\n",
       "       'REF7', 'RELI', 'TMAP', 'TMFI', 'Depth', 'Ca', 'P', 'pH', 'SOC',\n",
       "       'Sand'],\n",
       "      dtype='object', length=3599)"
      ]
     },
     "execution_count": 8,
     "metadata": {},
     "output_type": "execute_result"
    }
   ],
   "source": [
    "train.columns"
   ]
  },
  {
   "cell_type": "code",
   "execution_count": 9,
   "id": "5ef128b7",
   "metadata": {},
   "outputs": [],
   "source": [
    "label_encoder = preprocessing.LabelEncoder() \n",
    "  \n",
    "train['Depth']= label_encoder.fit_transform(train['Depth']) "
   ]
  },
  {
   "cell_type": "code",
   "execution_count": 10,
   "id": "633545a5",
   "metadata": {},
   "outputs": [],
   "source": [
    "train['Depth'] = train['Depth'].replace({'Topsoil' : 0 , 'Subsoil' : 1})"
   ]
  },
  {
   "cell_type": "code",
   "execution_count": 11,
   "id": "d1103fdf",
   "metadata": {},
   "outputs": [],
   "source": [
    "selection = SelectKBest(score_func=f_regression,k = 3200)"
   ]
  },
  {
   "cell_type": "markdown",
   "id": "eefe9e5f",
   "metadata": {},
   "source": [
    "# Prediction for Ca"
   ]
  },
  {
   "cell_type": "code",
   "execution_count": 12,
   "id": "23f6c5ff",
   "metadata": {},
   "outputs": [],
   "source": [
    "y_ca = train['Ca']\n",
    "X_ca = train.drop(['Ca','P', 'pH', 'SOC', 'Sand'], axis = 1)"
   ]
  },
  {
   "cell_type": "code",
   "execution_count": 13,
   "id": "5ffc175e",
   "metadata": {},
   "outputs": [],
   "source": [
    "X_can = selection.fit_transform(X_ca, y_ca)"
   ]
  },
  {
   "cell_type": "code",
   "execution_count": 14,
   "id": "cf4caa68",
   "metadata": {},
   "outputs": [
    {
     "name": "stdout",
     "output_type": "stream",
     "text": [
      "Root Mean Squared Error (RMSE) for P: 0.33\n"
     ]
    }
   ],
   "source": [
    "X_train, X_test, y_train, y_test = train_test_split(X_can, y_ca, test_size=0.2, random_state=42)\n",
    "#model = RandomForestRegressor(n_estimators = 200, max_depth = 8, random_state = 1)\n",
    "model = KernelRidge(alpha=0.1, kernel='polynomial', degree=7, coef0=2.5)\n",
    "model.fit(X_train,y_train)\n",
    "prediction = model.predict(X_test)\n",
    "\n",
    "mse = mean_squared_error(y_test, prediction)\n",
    "rmse = np.sqrt(mse)\n",
    "print(f\"Root Mean Squared Error (RMSE) for P: {rmse:.2f}\")"
   ]
  },
  {
   "cell_type": "markdown",
   "id": "982c9e70",
   "metadata": {},
   "source": [
    "# Prediction for P"
   ]
  },
  {
   "cell_type": "code",
   "execution_count": 113,
   "id": "29c24f2c",
   "metadata": {},
   "outputs": [],
   "source": [
    "y_p = train['P']\n",
    "X_p = train.drop(['Ca','P', 'pH', 'SOC', 'Sand'], axis = 1)"
   ]
  },
  {
   "cell_type": "code",
   "execution_count": 118,
   "id": "f2715d55",
   "metadata": {},
   "outputs": [
    {
     "name": "stdout",
     "output_type": "stream",
     "text": [
      "Root Mean Squared Error (RMSE) for P: 0.57\n"
     ]
    }
   ],
   "source": [
    "X_train, X_test, y_train, y_test = train_test_split(X_p, y_p, test_size=0.2, random_state=42)\n",
    "#model = RandomForestRegressor(n_estimators = 200, max_depth = 8, random_state = 1)\n",
    "model = KernelRidge(alpha = 0.1, gamma = 0.1, kernel='rbf', coef0 = 2.5, degree = 7)\n",
    "model.fit(X_train,y_train)\n",
    "prediction = model.predict(X_test)\n",
    "\n",
    "mse = mean_squared_error(y_test, prediction)\n",
    "rmse = np.sqrt(mse)\n",
    "print(f\"Root Mean Squared Error (RMSE) for P: {rmse:.2f}\")"
   ]
  },
  {
   "cell_type": "markdown",
   "id": "0bd50000",
   "metadata": {},
   "source": [
    "# Prediction for pH"
   ]
  },
  {
   "cell_type": "code",
   "execution_count": 19,
   "id": "12ca1b49",
   "metadata": {},
   "outputs": [],
   "source": [
    "y_pH = train['pH']\n",
    "X_pH = train.drop(['Ca','P', 'pH', 'SOC', 'Sand'], axis = 1)"
   ]
  },
  {
   "cell_type": "code",
   "execution_count": 33,
   "id": "31444514",
   "metadata": {},
   "outputs": [],
   "source": [
    "X_pHn = selection.fit_transform(X_pH, y_pH)"
   ]
  },
  {
   "cell_type": "code",
   "execution_count": 70,
   "id": "e8fff85c",
   "metadata": {},
   "outputs": [
    {
     "name": "stdout",
     "output_type": "stream",
     "text": [
      "Root Mean Squared Error (RMSE) for pH: 0.40\n"
     ]
    }
   ],
   "source": [
    "X_train, X_test, y_train, y_test = train_test_split(X_pHn, y_pH, test_size=0.2, random_state=42)\n",
    "#model = RandomForestRegressor(n_estimators = 200, max_depth = 8, random_state = 1)\n",
    "model = KernelRidge(alpha=0.1, kernel='polynomial', degree=7, coef0=2.5)\n",
    "model.fit(X_train,y_train)\n",
    "prediction = model.predict(X_test)\n",
    "\n",
    "mse = mean_squared_error(y_test, prediction)\n",
    "rmse = np.sqrt(mse)\n",
    "print(f\"Root Mean Squared Error (RMSE) for pH: {rmse:.2f}\")"
   ]
  },
  {
   "cell_type": "markdown",
   "id": "2f5ba50f",
   "metadata": {},
   "source": [
    "# Prediction for SOC"
   ]
  },
  {
   "cell_type": "code",
   "execution_count": 24,
   "id": "9b75a801",
   "metadata": {},
   "outputs": [],
   "source": [
    "y_soc = train['SOC']\n",
    "X_soc = train.drop(['Ca','P', 'pH', 'SOC', 'Sand'], axis = 1)"
   ]
  },
  {
   "cell_type": "code",
   "execution_count": 25,
   "id": "e115bfe2",
   "metadata": {},
   "outputs": [],
   "source": [
    "selection_soc = SelectKBest(score_func = f_regression,k = 1500)"
   ]
  },
  {
   "cell_type": "code",
   "execution_count": 26,
   "id": "18666f5a",
   "metadata": {},
   "outputs": [],
   "source": [
    "X_socn = selection_soc.fit_transform(X_soc, y_soc)"
   ]
  },
  {
   "cell_type": "code",
   "execution_count": 27,
   "id": "3f9f1d3d",
   "metadata": {},
   "outputs": [
    {
     "name": "stdout",
     "output_type": "stream",
     "text": [
      "Root Mean Squared Error (RMSE) for SOC: 0.28\n"
     ]
    }
   ],
   "source": [
    "X_train, X_test, y_train, y_test = train_test_split(X_socn, y_soc, test_size=0.20, random_state=42)\n",
    "#model = RandomForestRegressor(n_estimators = 200, max_depth = 8, random_state = 1)\n",
    "model = KernelRidge(alpha=0.1, kernel='polynomial', degree=7, coef0=2.5)\n",
    "model.fit(X_train,y_train)\n",
    "prediction = model.predict(X_test)\n",
    "\n",
    "mse = mean_squared_error(y_test, prediction)\n",
    "rmse = np.sqrt(mse)\n",
    "print(f\"Root Mean Squared Error (RMSE) for SOC: {rmse:.2f}\")"
   ]
  },
  {
   "cell_type": "markdown",
   "id": "4db1df64",
   "metadata": {},
   "source": [
    "# Prediction for Sand"
   ]
  },
  {
   "cell_type": "code",
   "execution_count": 28,
   "id": "87ac8478",
   "metadata": {},
   "outputs": [],
   "source": [
    "y_sand = train['Sand']\n",
    "X_sand = train.drop(['Ca','P', 'pH', 'SOC', 'Sand'], axis = 1)"
   ]
  },
  {
   "cell_type": "code",
   "execution_count": 35,
   "id": "e9ac308c",
   "metadata": {},
   "outputs": [
    {
     "name": "stdout",
     "output_type": "stream",
     "text": [
      "Root Mean Squared Error (RMSE) for Sand: 0.26\n"
     ]
    }
   ],
   "source": [
    "X_train, X_test, y_train, y_test = train_test_split(X_sand, y_sand, test_size=0.2, random_state=42)\n",
    "#model = RandomForestRegressor(n_estimators = 200, max_depth = 8, random_state = 1)\n",
    "model = KernelRidge(alpha=0.1, kernel='polynomial', degree=7, coef0=2.5)\n",
    "model.fit(X_train,y_train)\n",
    "prediction = model.predict(X_test)\n",
    "\n",
    "mse = mean_squared_error(y_test, prediction)\n",
    "rmse = np.sqrt(mse)\n",
    "print(f\"Root Mean Squared Error (RMSE) for Sand: {rmse:.2f}\")"
   ]
  },
  {
   "cell_type": "markdown",
   "id": "00b44be8",
   "metadata": {},
   "source": [
    "# Grid Search Cross-Validation for RandomForestRegressort"
   ]
  },
  {
   "cell_type": "code",
   "execution_count": null,
   "id": "a49cbcc1",
   "metadata": {},
   "outputs": [],
   "source": [
    "from sklearn.model_selection import GridSearchCV\n",
    "\n",
    "# Define the parameter grid to search\n",
    "param_grid = {\n",
    "    'n_estimators': [100, 200, 300],\n",
    "    'max_depth': [6, 8, 10],\n",
    "    # Add more parameters to tune if needed\n",
    "}\n",
    "\n",
    "# Function to train and evaluate model\n",
    "def train_and_evaluate(X, y, target_name):\n",
    "    X_train, X_test, y_train, y_test = train_test_split(X, y, test_size=0.2, random_state=42)\n",
    "    \n",
    "    model = RandomForestRegressor(random_state=1)\n",
    "    grid_search = GridSearchCV(estimator=model, param_grid=param_grid, cv=5, scoring='neg_mean_squared_error')\n",
    "    \n",
    "    grid_search.fit(X_train, y_train)\n",
    "    best_model = grid_search.best_estimator_\n",
    "    \n",
    "    prediction = best_model.predict(X_test)\n",
    "    mse = mean_squared_error(y_test, prediction)\n",
    "    rmse = np.sqrt(mse)\n",
    "    print(f\"Root Mean Squared Error (RMSE) for {target_name}: {rmse:.2f}\")\n",
    "    \n",
    "# Apply function for each target variable\n",
    "targets = {\n",
    "    'Ca': (train['Ca'], X_ca),\n",
    "    'P': (train['P'], X_p),\n",
    "    'pH': (train['pH'], X_pH),\n",
    "    'SOC': (train['SOC'], X_soc),\n",
    "    'Sand': (train['Sand'], X_sand)\n",
    "}\n",
    "\n",
    "for target_name, (y, X) in targets.items():\n",
    "    train_and_evaluate(X, y, target_name)\n"
   ]
  },
  {
   "cell_type": "markdown",
   "id": "3282b847",
   "metadata": {},
   "source": [
    "# Grid Search Cross-Validation for Kernel Ridge"
   ]
  },
  {
   "cell_type": "code",
   "execution_count": 51,
   "id": "5c103220",
   "metadata": {},
   "outputs": [
    {
     "name": "stdout",
     "output_type": "stream",
     "text": [
      "Best Parameters for Ca: {'alpha': 10.0, 'coef0': 0.0, 'degree': 2, 'gamma': 0.1, 'kernel': 'poly'}\n",
      "Root Mean Squared Error (RMSE) for Ca: 0.39\n",
      "Best Parameters for P: {'alpha': 0.1, 'coef0': 0.0, 'degree': 2, 'gamma': 0.1, 'kernel': 'rbf'}\n",
      "Root Mean Squared Error (RMSE) for P: 0.57\n",
      "Best Parameters for pH: {'alpha': 1.0, 'coef0': 1.0, 'degree': 2, 'gamma': 0.1, 'kernel': 'poly'}\n",
      "Root Mean Squared Error (RMSE) for pH: 0.42\n",
      "Best Parameters for SOC: {'alpha': 10.0, 'coef0': 1.0, 'degree': 2, 'gamma': 0.1, 'kernel': 'poly'}\n",
      "Root Mean Squared Error (RMSE) for SOC: 0.27\n",
      "Best Parameters for Sand: {'alpha': 10.0, 'coef0': 1.0, 'degree': 2, 'gamma': 0.1, 'kernel': 'poly'}\n",
      "Root Mean Squared Error (RMSE) for Sand: 0.28\n"
     ]
    }
   ],
   "source": [
    "# Define the parameter grid to search for Kernel Ridge\n",
    "param_grid = {\n",
    "    'alpha': [0.1, 1.0, 10.0],\n",
    "    'kernel': ['linear', 'rbf', 'poly'],\n",
    "    'gamma': [0.1, 1.0],\n",
    "    'degree': [range(1,10)],  # For polynomial kernel\n",
    "    'coef0': [0.0, 1.0],  # For polynomial and sigmoid kernels\n",
    "    # Additional parameters as needed\n",
    "}\n",
    "\n",
    "\n",
    "# Function to train and evaluate Kernel Ridge model\n",
    "def train_and_evaluate_kernel_ridge(X, y, target_name):\n",
    "    X_train, X_test, y_train, y_test = train_test_split(X, y, test_size=0.2, random_state=42)\n",
    "    \n",
    "    model = KernelRidge()\n",
    "    grid_search = GridSearchCV(estimator=model, param_grid=param_grid, cv=5, scoring='neg_mean_squared_error')\n",
    "    \n",
    "    grid_search.fit(X_train, y_train)\n",
    "    best_model = grid_search.best_estimator_\n",
    "    \n",
    "    # Get best parameters\n",
    "    best_params = grid_search.best_params_\n",
    "    print(f\"Best Parameters for {target_name}: {best_params}\")\n",
    "    \n",
    "    prediction = best_model.predict(X_test)\n",
    "    mse = mean_squared_error(y_test, prediction)\n",
    "    rmse = np.sqrt(mse)\n",
    "    print(f\"Root Mean Squared Error (RMSE) for {target_name}: {rmse:.2f}\")\n",
    "    \n",
    "# Apply function for each target variable\n",
    "targets = {\n",
    "    'Ca': (train['Ca'], X_ca),\n",
    "    'P': (train['P'], X_p),\n",
    "    'pH': (train['pH'], X_pH),\n",
    "    'SOC': (train['SOC'], X_soc),\n",
    "    'Sand': (train['Sand'], X_sand)\n",
    "}\n",
    "\n",
    "for target_name, (y, X) in targets.items():\n",
    "    train_and_evaluate_kernel_ridge(X, y, target_name)\n"
   ]
  }
 ],
 "metadata": {
  "kernelspec": {
   "display_name": "Python 3 (ipykernel)",
   "language": "python",
   "name": "python3"
  },
  "language_info": {
   "codemirror_mode": {
    "name": "ipython",
    "version": 3
   },
   "file_extension": ".py",
   "mimetype": "text/x-python",
   "name": "python",
   "nbconvert_exporter": "python",
   "pygments_lexer": "ipython3",
   "version": "3.11.5"
  }
 },
 "nbformat": 4,
 "nbformat_minor": 5
}
